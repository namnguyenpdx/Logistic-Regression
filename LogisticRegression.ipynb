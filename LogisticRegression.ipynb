{
  "nbformat": 4,
  "nbformat_minor": 0,
  "metadata": {
    "colab": {
      "provenance": []
    },
    "kernelspec": {
      "name": "python3",
      "display_name": "Python 3"
    },
    "language_info": {
      "name": "python"
    }
  },
  "cells": [
    {
      "cell_type": "code",
      "execution_count": 9,
      "metadata": {
        "colab": {
          "base_uri": "https://localhost:8080/"
        },
        "id": "S6csv4Gqm6To",
        "outputId": "e17a6b82-ad5b-49b5-8c00-94e3077c58f4"
      },
      "outputs": [
        {
          "output_type": "stream",
          "name": "stdout",
          "text": [
            "Weights from Gradient Descent: [ 4.92406414 -1.89302028]\n"
          ]
        }
      ],
      "source": [
        "import numpy as np\n",
        "\n",
        "# Load the dataset from a text file\n",
        "A = np.loadtxt('Data.txt')  # Adjust the file path as needed\n",
        "A = A.T\n",
        "X = A[0, :]  # Extract the first row\n",
        "y = A[1, :]  # Extract the second row\n",
        "m = A.shape[1]  # Number of data points\n",
        "\n",
        "# Add ones to the second column\n",
        "O = np.ones(m)\n",
        "X = np.column_stack((X, O))\n",
        "\n",
        "# Gradient Descent Method\n",
        "w = np.array([0.0, 0.0])  # Initialize w as a float array\n",
        "N = 5000  # Number of iterations\n",
        "alpha = 0.01  # Learning rate\n",
        "\n",
        "for i in range(N):\n",
        "    grad = np.zeros(2)\n",
        "    for t in range(m):\n",
        "        z = 1 / (1 + np.exp(-np.dot(X[t, :], w)))\n",
        "        grad += (z - y[t]) * X[t, :]\n",
        "    w -= alpha * grad\n",
        "\n",
        "print(\"Weights from Gradient Descent:\", w)\n",
        "\n"
      ]
    }
  ]
}